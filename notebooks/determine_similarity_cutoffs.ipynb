{
 "cells": [
  {
   "cell_type": "code",
   "execution_count": 1,
   "metadata": {},
   "outputs": [],
   "source": [
    "# Add the parent directory of the current working directory to the Python path at runtime. \n",
    "# In order to import modules from the src directory.\n",
    "import os\n",
    "import sys \n",
    "\n",
    "current_dir = os.getcwd()\n",
    "parent_dir = os.path.dirname(current_dir)\n",
    "sys.path.insert(0, parent_dir)"
   ]
  },
  {
   "cell_type": "code",
   "execution_count": null,
   "metadata": {},
   "outputs": [],
   "source": [
    "import numpy as np\n",
    "from langchain_voyageai.embeddings import VoyageAIEmbeddings\n",
    "from dotenv import load_dotenv, find_dotenv\n",
    "load_dotenv(find_dotenv())\n",
    "voyage_api_key = os.environ[\"VOYAGE_API_KEY\"]"
   ]
  },
  {
   "cell_type": "code",
   "execution_count": 5,
   "metadata": {},
   "outputs": [],
   "source": [
    "batch_size = 8\n",
    "embedder = VoyageAIEmbeddings(model='voyage-large-2-instruct', batch_size=batch_size,\n",
    "                                         voyage_api_key=voyage_api_key)"
   ]
  },
  {
   "cell_type": "code",
   "execution_count": 11,
   "metadata": {},
   "outputs": [],
   "source": [
    "# Every pair of two consecutive dois corresponds to papers that belong to the same topic. Otherwise, the papers are sufficiently different to constitute distinct domains.\n",
    "dois = ['10.1016/j.neuroimage.2014.03.066',\n",
    "        '10.1016/j.neuroimage.2016.10.044',\n",
    "        '10.1371/journal.pone.0114054',\n",
    "        '10.3389/fnins.2020.00825',\n",
    "        '10.1016/j.neunet.2019.09.027',\n",
    "        '10.1523/JNEUROSCI.1046-11.2011',\n",
    "        '10.1111/bdi.12659',\n",
    "        '10.1038/ncomms4339',\n",
    "]        \n",
    "\n",
    "abstracts = [\n",
    "    \"\"\"Brain function relies on the flexible integration of a diverse set of segregated cortical modules, with the structural connectivity of the brain being a fundamentally important factor in shaping the brain's functional dynamics. Following up on macroscopic studies showing the existence of centrally connected nodes in the mammalian brain, combined with the notion that these putative brain hubs may form a dense interconnected ‘rich club’ collective, we hypothesized that brain connectivity might involve a rich club type of architecture to promote a repertoire of different and flexibly accessible brain functions. With the rich club suggested to play an important role in global brain communication, examining the effects of a rich club organization on the functional repertoire of physical systems in general, and the brain in particular, is of keen interest. Here we elucidate these effects using a spin glass model of neural networks for simulating stable configurations of cortical activity. Using simulations, we show that the presence of a rich club increases the set of attractors and hence the diversity of the functional repertoire over and above the effects produced by scale free type topology alone. Within the networks' overall functional repertoire rich nodes are shown to be important for enabling a high level of dynamic integrations of low-degree nodes to form functional networks. This suggests that the rich club serves as an important backbone for numerous co-activation patterns among peripheral nodes of the network. In addition, applying the spin glass model to empirical anatomical data of the human brain, we show that the positive effects on the functional repertoire attributed to the rich club phenomenon can be observed for the brain as well. We conclude that a rich club organization in network architectures may be crucial for the facilitation and integration of a diverse number of segregated functions.\"\"\",\n",
    "    \"\"\"Cognition is hypothesized to require the globally coordinated, functionally relevant integration of otherwise segregated information processing carried out by specialized brain regions. Studies of the macroscopic connectome as well as recent neuroimaging and neuromodeling research have suggested a densely connected collective of cortical hubs, termed the rich club, to provide a central workspace for such integration. In order for rich club regions to fulfill this role they must dispose of a dynamic mechanism by which they can actively shape networks of brain regions whose information processing needs to be integrated. A potential candidate for such a mechanism comes in the form of oscillations which might be employed to establish communication channels among relevant brain regions. We explore this possibility using an integrative approach combining whole-brain computational modeling with neuroimaging, wherein we investigate the local dynamics model brain regions need to exhibit in order to fit (dynamic) network behavior empirically observed for resting as well as a range of task states. We find that rich club regions largely exhibit oscillations during task performance but not during rest. Furthermore, oscillations exhibited by rich club regions can harmonize a set of asynchronous brain regions thus supporting functional coupling among them. These findings are in line with the hypothesis that the rich club can actively shape integration using oscillations.\"\"\",\n",
    "    \"\"\"Within vision research retinotopic mapping and the more general receptive field estimation approach constitute not only an active field of research in itself but also underlie a plethora of interesting applications. This necessitates not only good estimation of population receptive fields (pRFs) but also that these receptive fields are consistent across time rather than dynamically changing. It is therefore of interest to maximize the accuracy with which population receptive fields can be estimated in a functional magnetic resonance imaging (fMRI) setting. This, in turn, requires an adequate estimation framework providing the data for population receptive field mapping. More specifically, adequate decisions with regard to stimulus choice and mode of presentation need to be made. Additionally, it needs to be evaluated whether the stimulation protocol should entail mean luminance periods and whether it is advantageous to average the blood oxygenation level dependent (BOLD) signal across stimulus cycles or not. By systematically studying the effects of these decisions on pRF estimates in an empirical as well as simulation setting we come to the conclusion that a bar stimulus presented at random positions and interspersed with mean luminance periods is generally most favorable. Finally, using this optimal estimation framework we furthermore tested the assumption of temporal consistency of population receptive fields. We show that the estimation of pRFs from two temporally separated sessions leads to highly similar pRF parameters.\"\"\",\n",
    "    \"\"\"In functional MRI (fMRI), population receptive field (pRF) models allow a quantitative description of the response as a function of the features of the stimuli that are relevant for each voxel. The most popular pRF model used in fMRI assumes a Gaussian shape in the features space (e.g., the visual field) reducing the description of the voxel’s pRF to the Gaussian mean (the pRF preferred feature) and standard deviation (the pRF size). The estimation of the pRF mean has been proven to be highly reliable. However, the estimate of the pRF size has been shown not to be consistent within and between subjects. While this issue has been noted experimentally, here we use an optimization theory perspective to describe how the inconsistency in estimating the pRF size is linked to an inherent property of the Gaussian pRF model. When fitting such models, the goodness of fit is less sensitive to variations in the pRF size than to variations in the pRF mean. We also show how the same issue can be considered from a bias-variance perspective. We compare different estimation procedures in terms of the reliability of their estimates using simulated and real fMRI data in the visual (using the Human Connectome Project database) and auditory domain. We show that, the reliability of the estimate of the pRF size can be improved considering a linear combination of those pRF models with similar goodness of fit or a permutation based approach. This increase in reliability of the pRF size estimate does not affect the reliability of the estimate of the pRF mean and the prediction accuracy.\"\"\",\n",
    "    \"\"\"Previous research has shown that performance of a novice skill can be easily interfered with by subsequent training of another skill. We address the open questions whether extensively trained skills show the same vulnerability to interference as novice skills and which memory mechanism regulates interference between expert skills. We developed a recurrent neural network model of V1 able to learn from feedback experienced over the course of a long-term orientation discrimination experiment. After first exposing the model to one discrimination task for 3480 consecutive trials, we assessed how its performance was affected by subsequent training in a second, similar task. Training the second task strongly interfered with the first (highly trained) discrimination skill. The magnitude of interference depended on the relative amounts of training devoted to the different tasks. We used these and other model outcomes as predictions for a perceptual learning experiment in which human participants underwent the same training protocol as our model. Specifically, over the course of three months participants underwent baseline training in one orientation discrimination task for 15 sessions before being trained for 15 sessions on a similar task and finally undergoing another 15 sessions of training on the first task (to assess interference). Across all conditions, the pattern of interference observed empirically closely matched model predictions. According to our model, behavioral interference can be explained by antagonistic changes in neuronal tuning induced by the two tasks. Remarkably, this did not stem from erasing connections due to earlier learning but rather from a reweighting of lateral inhibition.\"\"\",\n",
    "    \"\"\"Perceptual skills improve with daily practice (Fahle and Poggio, 2002; Fine and Jacobs, 2002). Practice induces plasticity in task-relevant brain regions during an “offline” consolidation period thought to last several hours, during which initially fragile memory traces become stable (Karni, 1996; Dudai, 2004). Impaired retention of a task if followed by training in another task is considered evidence for the instability of memory traces during consolidation (Dudai, 2004). However, it remains unknown when after training memory traces become stable and resistant against interference, where in the brain the neuronal mechanisms responsible for interference are localized, and how these mechanisms produce interference. Here, we show in human participants strong interference between two visual skill-learning tasks for surprisingly long time intervals between training periods (up to 24 h). Interference occurred during asymptotic learning, but only when stimuli were similar between tasks. This supports a strong contribution to interference of low-level visual cortical areas (Karni and Bertini, 1997; Ahissar and Hochstein, 2004), where similar stimuli recruit overlapping neuronal populations. Our finding of stimulus-dependent and time-independent interference reveals a fundamental limit in cortical plasticity that constrains the simultaneous representation of multiple skills in a single neuronal population, rather than a time-limited consolidation process.\"\"\",\n",
    "    \"\"\"Objectives Bipolar disorder (BD) with early disease onset is associated with an unfavorable clinical outcome and constitutes a clinically and biologically homogenous subgroup within the heterogeneous BD spectrum. Previous studies have found an accumulation of early age at onset (AAO) in BD families and have therefore hypothesized that there is a larger genetic contribution to the early-onset cases than to late onset BD. To investigate the genetic background of this subphenotype, we evaluated whether an increased polygenic burden of BD- and schizophrenia (SCZ)-associated risk variants is associated with an earlier AAO in BD patients.\n",
    "       Methods A total of 1995 BD type 1 patients from the Consortium of Lithium Genetics (ConLiGen), PsyCourse and Bonn-Mannheim samples were genotyped and their BD and SCZ polygenic risk scores (PRSs) were calculated using the summary statistics of the Psychiatric Genomics Consortium as a training data set. AAO was either separated into onset groups of clinical interest (childhood and adolescence [≤18 years] vs adulthood [>18 years]) or considered as a continuous measure. The associations between BD- and SCZ-PRSs and AAO were evaluated with regression models.\n",
    "       Results BD- and SCZ-PRSs were not significantly associated with age at disease onset. Results remained the same when analyses were stratified by site of recruitment.\n",
    "       Conclusions The current study is the largest conducted so far to investigate the association between the cumulative BD and SCZ polygenic risk and AAO in BD patients. The reported negative results suggest that such a polygenic influence, if there is any, is not large, and highlight the importance of conducting further, larger scale studies to obtain more information on the genetic architecture of this clinically relevant phenotype.\"\"\",\n",
    "    \"\"\"Bipolar disorder (BD) is a common and highly heritable mental illness and genome-wide association studies (GWAS) have robustly identified the first common genetic variants involved in disease aetiology. The data also provide strong evidence for the presence of multiple additional risk loci, each contributing a relatively small effect to BD susceptibility. Large samples are necessary to detect these risk loci. Here we present results from the largest BD GWAS to date by investigating 2.3 million single-nucleotide polymorphisms (SNPs) in a sample of 24,025 patients and controls. We detect 56 genome-wide significant SNPs in five chromosomal regions including previously reported risk loci ANK3, ODZ4 and TRANK1, as well as the risk locus ADCY2 (5p15.31) and a region between MIR2113 and POU3F2 (6q16.1). ADCY2 is a key enzyme in cAMP signalling and our finding provides new insights into the biological mechanisms involved in the development of BD.\"\"\",\n",
    "]\n",
    "\n",
    "num_abstracts = len(abstracts)\n",
    "abstract_embeddings = np.array(embedder.embed_documents(abstracts))"
   ]
  },
  {
   "cell_type": "code",
   "execution_count": 13,
   "metadata": {},
   "outputs": [
    {
     "name": "stdout",
     "output_type": "stream",
     "text": [
      "min similarity within domain: 0.8463\n",
      "max similarity across domains: 0.7384\n"
     ]
    }
   ],
   "source": [
    "similarity = abstract_embeddings.dot(abstract_embeddings.T).round(4)\n",
    "\n",
    "indices = np.arange(num_abstracts) % 2 == 0\n",
    "mask_within = np.eye(num_abstracts, k=1, dtype=bool)\n",
    "mask_within[~indices] = False\n",
    "\n",
    "mask_between = np.triu(~mask_within, k=1)\n",
    "\n",
    "print(f'min similarity within domain: {np.min(similarity[mask_within])}')\n",
    "\n",
    "print(f'max similarity across domains: {np.max(similarity[mask_between])}')"
   ]
  }
 ],
 "metadata": {
  "kernelspec": {
   "display_name": "trends_env",
   "language": "python",
   "name": "python3"
  },
  "language_info": {
   "codemirror_mode": {
    "name": "ipython",
    "version": 3
   },
   "file_extension": ".py",
   "mimetype": "text/x-python",
   "name": "python",
   "nbconvert_exporter": "python",
   "pygments_lexer": "ipython3",
   "version": "3.12.2"
  }
 },
 "nbformat": 4,
 "nbformat_minor": 2
}
