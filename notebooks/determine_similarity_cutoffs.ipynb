{
 "cells": [
  {
   "cell_type": "code",
   "execution_count": 3,
   "metadata": {},
   "outputs": [],
   "source": [
    "# Add the parent directory of the current working directory to the Python path at runtime. \n",
    "# In order to import modules from the src directory.\n",
    "import os\n",
    "import sys \n",
    "\n",
    "current_dir = os.getcwd()\n",
    "parent_dir = os.path.dirname(current_dir)\n",
    "sys.path.insert(0, parent_dir)"
   ]
  },
  {
   "cell_type": "code",
   "execution_count": 4,
   "metadata": {},
   "outputs": [],
   "source": [
    "import numpy as np\n",
    "from langchain_voyageai.embeddings import VoyageAIEmbeddings\n",
    "from dotenv import load_dotenv, find_dotenv\n",
    "load_dotenv(find_dotenv())\n",
    "voyage_api_key = os.environ[\"VOYAGE_API_KEY\"]"
   ]
  },
  {
   "cell_type": "code",
   "execution_count": 5,
   "metadata": {},
   "outputs": [],
   "source": [
    "batch_size = 8\n",
    "embedder = VoyageAIEmbeddings(model='voyage-large-2-instruct', batch_size=batch_size,\n",
    "                                         voyage_api_key=voyage_api_key)"
   ]
  },
  {
   "cell_type": "code",
   "execution_count": 6,
   "metadata": {},
   "outputs": [],
   "source": [
    "# Every pair of two consecutive dois corresponds to papers that belong to the same topic. Otherwise, the papers are sufficiently different to constitute distinct domains.     \n",
    "\n",
    "abstracts = [\n",
    "    \"\"\"In a field study, we examined choice blindness for eyewitnesses' facial recognition decisions. Seventy-one pedestrians were engaged in a conversation by two experimenters who pretended to be tourists in the center of a European city. After a short interval, pedestrians were asked to identify the two experimenters from separate simultaneous six-person photo lineups. Following each of the two forced-choice recognition decisions, they were confronted with their selection and asked to motivate their decision. However, for one of the recognition decisions, the chosen lineup member was exchanged with a previously unidentified member. Blindness for this identity manipulation occurred at the rate of 40.8%. Furthermore, the detection rate varied as a function of similarity (high vs. low) between the original choice and the manipulated outcome. Finally, choice manipulations undermined the confidence-accuracy relation for detectors to a greater degree than for blind participants. Stimulus ambiguity is discussed as a moderator of choice blindness.\"\"\",\n",
    "    \"\"\"The aim of the current research was to identify conditions under which choice blindness in facial recognition decisions occurs. In five experiments, participants watched four mock-crime videos and made choices that were either evaluative (Experiment 1) or absolute in nature (Experiments 2a-c and 3). When participants were subsequently asked to motivate their choice, they were sometimes presented with choices they had not made. For evaluative decisions, concurrent (27%) and retrospective blindness rates (21%) were relatively low compared with previous studies. For absolute decisions, choice-blindness rates varied, depending on when exposure to the manipulated outcome took place (immediate: concurrent 32-35%, retrospective 0-6% [Experiments 2a-c]; 48 hours' delay: concurrent 68%, retrospective 39% [Experiment 3]). We argue that blindness for facial recognition decisions is more likely for evaluative decisions and for longer intervals between decision and manipulation and also for conditions of increased task complexity, which we interpret in terms of ambiguity.\"\"\",\n",
    "    \"\"\"The detection of deception has attracted increased attention among psychological researchers, legal scholars, and ethicists during the last decade. Much of this has been driven by the possibility of using neuroimaging techniques for lie detection. Yet, neuroimaging studies addressing deception detection are clouded by lack of conceptual clarity and a host of methodological problems that are not unique to neuroimaging. We review the various research paradigms and the dependent measures that have been adopted to study deception and its detection. In doing so, we differentiate between basic research designed to shed light on the neurocognitive mechanisms underlying deceptive behavior and applied research aimed at detecting lies. We also stress the distinction between paradigms attempting to detect deception directly and those attempting to establish involvement by detecting crime-related knowledge, and discuss the methodological difficulties and threats to validity associated with each paradigm. Our conclusion is that the main challenge of future research is to find paradigms that can isolate cognitive factors associated with deception, rather than the discovery of a unique (brain) correlate of lying. We argue that the Comparison Question Test currently applied in many countries has weak scientific validity, which cannot be remedied by using neuroimaging measures. Other paradigms are promising, but the absence of data from ecologically valid studies poses a challenge for legal admissibility of their outcomes.\"\"\",\n",
    "    \"\"\"Polygraph tests have been used to detect deception for almost a century. Yet for almost as long, the validity of these tests has been criticized. Over the last decade, the use of brain imaging - most notably fMRI - for the detection of deception has attracted increased attention. The expectation is that fMRI can overcome - at least some of - the shortcomings of the polygraph. In this review, we discuss whether this expectation is warranted. Based on our review of the empirical evidence, we argue that fMRI deception research has boosted the theory development of deception. But for practical purposes, fMRI research has thus far done surprisingly little to solve or circumvent the problems than have been associated with deception research for ages.\"\"\",\n",
    "    \"\"\"Background\n",
    "       Maternity waiting homes (MWHs) are aimed at improving access to facility-based skilled delivery services in rural areas. This study explored women's experiences and beliefs concerning utilisation of MWHs in rural Zambia. Insight is needed into women's experiences and beliefs to provide starting points for the design of public health interventions that focus on promoting access to and utilisation of MWHs and skilled birth attendance services in rural Zambia.\n",
    "       Methods\n",
    "       We conducted 32 in-depth interviews with women of reproductive age (15-45 years) from nine health centre catchment areas. A total of twenty-two in-depth interviews were conducted at a health care facility with a MWH and 10 were conducted at a health care facility without MWHs. Women's perspectives on MWHs, the decision-making process regarding the use of MWHs, and factors affecting utilisation of MWHs were explored.\n",
    "       Results\n",
    "       Most women appreciated the important role MWHs play in improving access to skilled birth attendance and improving maternal health outcomes. However several factors such as women's lack of decision-making autonomy, prevalent gender inequalities, low socioeconomic status and socio-cultural norms prevent them from utilising these services. Moreover, non availability of funds to buy the requirements for the baby and mother to use during labour at the clinic, concerns about a relative to remain at home and take care of the children and concerns about the poor state and lack of basic social and healthcare needs in the MWHs − such as adequate sleeping space, beddings, water and sanitary services, food and cooking facilities as well as failure by nurses and midwives to visit the mothers staying in the MWHs to ensure their safety prevent women from using MWHs.\n",
    "       Conclusion\n",
    "       These findings highlight important targets for interventions and suggest a need to provide women with skills and resources to ensure decision-making autonomy and address the prevalent gender and cultural norms that debase their social status. Moreover, there is need to consider provision of basic social and healthcare needs such as adequate sleeping space, beddings, water and sanitary services, food and cooking facilities, and ensuring that nurses and midwives conduct regular visits to the mothers staying in the MWHs.\"\"\",\n",
    "    \"\"\"Background\n",
    "    Despite the policy change stopping traditional birth attendants (TBAs) from conducting deliveries at home and encouraging all women to give birth at the clinic under skilled care, many women still give birth at home and TBAs are essential providers of obstetric care in rural Zambia. The main reasons for pregnant women's preference for TBAs are not well understood. This qualitative study aimed to identify reasons motivating women to giving birth at home and seek the help of TBAs. This knowledge is important for the design of public health interventions focusing on promoting facility-based skilled birth attendance in Zambia.\n",
    "    Methods\n",
    "    We conducted ten focus group discussions (n = 100) with women of reproductive age (15-45 years) in five health centre catchment areas with the lowest institutional delivery rates in the district. In addition, a total of 30 in-depth interviews were conducted comprising 5 TBAs, 4 headmen, 4 husbands, 4 mothers, 4 neighbourhood health committee (NHC) members, 4 community health workers (CHWs) and 5 nurses. Perspectives on TBAs, the decision-making process regarding home delivery and use of TBAs, and reasons for preference of TBAs and their services were explored.\n",
    "    Results\n",
    "    Our findings show that women's lack of decision- making autonomy regarding child birth, dependence on the husband and other family members for the final decision, and various physical and socioeconomic barriers including long distances, lack of money for transport and the requirement to bring baby clothes and food while staying at the clinic, prevented them from delivering at a clinic. In addition, socio-cultural norms regarding childbirth, negative attitude towards the quality of services provided at the clinic, made most women deliver at home. Moreover, most women had a positive attitude towards TBAs and perceived them to be respectful, skilled, friendly, trustworthy, and available when they needed them.\n",
    "    Conclusion\n",
    "    Our findings suggest a need to empower women with decision-making skills regarding childbirth and to lower barriers that prevent them from going to the health facility in time. There is also need to improve the quality of existing facility-based delivery services and to strengthen linkages between TBAs and the formal health system.\"\"\",\n",
    "    \"\"\"Massive Open Online Courses (MOOC) aim at large-scale learning with relatively little teacher support. This is in contrast with established insights from educational research that stress the importance of stimulating active, contextual, collaborative and self-directed learning. Maastricht University aims to contribute to the development of educationally sound MOOC designs by developing a MOOC about Problem-Based Learning (PBL) following –as far as possible- the principles of PBL. In this MOOC participants have learned about PBL by studying authentic problems collaborating in a group, online and without a tutor. This chapter describes the instructional design of the MOOC ‘Problem-Based Learning: Principles and design. Students at the center!’ related to PBL learning principles and reports the most important lessons learned.\"\"\",\n",
    "    \"\"\"Massive Open Online Courses (MOOCs) target a large number of participants, typically without entry requirements and for free. Inherently, the amount of teacher support is limited and interaction is often limited. This exploratory study aims to investigate whether characteristics of PBL can be implemented in a MOOC, thus applying a student-centred instructional design. The results of two runs of the MOOC Problem-Based Learning: Principles and design. Students at the centre! show that it is possible to design a MOOC based on student-centred learning theories. Participants discussed authentic problem cases in groups and followed a similar structure as in regular Problem-Based Learning (PBL): a brainstorm phase in which they collaboratively generated their own learning questions, a self-study phase in which they individually searched resources to study, and a reporting phase in which they collaboratively discussed what they had found. In the absence of tutor guidance and feedback, participants learned with and from each other. Participants were positive about the design, the learning materials, and the learning process in the PBL. Successful groups managed to collect insights and genuinely co-construct knowledge. However, the absence of a tutor makes means that this design is not comparable to traditional forms of PBL and is not successful for all MOOC participants.\"\"\"\n",
    "]\n",
    "\n",
    "num_abstracts = len(abstracts)\n",
    "abstract_embeddings = np.array(embedder.embed_documents(abstracts))"
   ]
  },
  {
   "cell_type": "code",
   "execution_count": 7,
   "metadata": {},
   "outputs": [
    {
     "name": "stdout",
     "output_type": "stream",
     "text": [
      "min similarity within domain: 0.8757\n",
      "max similarity across domains: 0.7134\n"
     ]
    }
   ],
   "source": [
    "similarity = abstract_embeddings.dot(abstract_embeddings.T).round(4)\n",
    "\n",
    "indices = np.arange(num_abstracts) % 2 == 0\n",
    "mask_within = np.eye(num_abstracts, k=1, dtype=bool)\n",
    "mask_within[~indices] = False\n",
    "\n",
    "mask_between = np.triu(~mask_within, k=1)\n",
    "\n",
    "print(f'min similarity within domain: {np.min(similarity[mask_within])}')\n",
    "\n",
    "print(f'max similarity across domains: {np.max(similarity[mask_between])}')"
   ]
  }
 ],
 "metadata": {
  "kernelspec": {
   "display_name": "trends_env",
   "language": "python",
   "name": "python3"
  },
  "language_info": {
   "codemirror_mode": {
    "name": "ipython",
    "version": 3
   },
   "file_extension": ".py",
   "mimetype": "text/x-python",
   "name": "python",
   "nbconvert_exporter": "python",
   "pygments_lexer": "ipython3",
   "version": "3.12.2"
  }
 },
 "nbformat": 4,
 "nbformat_minor": 2
}
