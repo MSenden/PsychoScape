{
 "cells": [
  {
   "cell_type": "code",
   "execution_count": 1,
   "metadata": {},
   "outputs": [],
   "source": [
    "# Add the parent directory of the current working directory to the Python path at runtime. \n",
    "# In order to import modules from the src directory.\n",
    "import os\n",
    "import sys\n",
    "import openai\n",
    "\n",
    "current_dir = os.getcwd()\n",
    "parent_dir = os.path.dirname(current_dir)\n",
    "sys.path.insert(0, parent_dir)\n",
    "\n",
    "BASEPATH = os.environ[\"BASEPATH\"]\n",
    "openai.api_key = os.environ[\"OPENAI_API_KEY\"]"
   ]
  },
  {
   "cell_type": "code",
   "execution_count": 2,
   "metadata": {},
   "outputs": [],
   "source": [
    "import tomllib\n",
    "import numpy as np\n",
    "import pandas as pd\n",
    "import seaborn as sns\n",
    "import matplotlib.pyplot as plt\n",
    "\n",
    "from langchain_openai import ChatOpenAI\n",
    "from langchain.prompts import PromptTemplate\n",
    "from langchain_core.output_parsers.json import SimpleJsonOutputParser\n",
    "\n",
    "from src.utils.plotting import convert_size\n",
    "from src.utils.semantic import safe_dictionary_extraction\n",
    "\n",
    "sns.set_context(\"paper\")"
   ]
  },
  {
   "cell_type": "code",
   "execution_count": 3,
   "metadata": {},
   "outputs": [],
   "source": [
    "def parse_directories():\n",
    "    \"\"\"\n",
    "    Parse the directories from the configuration file.\n",
    "    Returns:\n",
    "    - directories: dict\n",
    "    \"\"\"\n",
    "    with open('../config/directories.toml', 'rb') as f:\n",
    "        configurations = tomllib.load(f)\n",
    "\n",
    "    return configurations\n",
    "\n",
    "def compute_normalized_annual_growth(data):\n",
    "    \"\"\"\n",
    "    Compute the size-adjusted annual growth rate of each cluster.\n",
    "\n",
    "    Parameters:\n",
    "    - data: pd.DataFrame\n",
    "\n",
    "    Returns:\n",
    "    - normalized_growth: pd.Series\n",
    "    \"\"\"\n",
    "    cluster_count_per_year = data.groupby(['Year', 'Cluster ID']).size().unstack().fillna(0)\n",
    "\n",
    "    # compute growth using regression per cluster\n",
    "    beta = cluster_count_per_year.apply(\n",
    "        lambda x: pd.Series(\n",
    "            np.polyfit(cluster_count_per_year.index, x, 1), index=['Slope', 'Intercept']), axis=0)\n",
    "\n",
    "    # compute normalized growth\n",
    "    normalized_growth = beta.loc['Slope'] / cluster_count_per_year.sum()\n",
    "\n",
    "    return normalized_growth"
   ]
  },
  {
   "cell_type": "code",
   "execution_count": 4,
   "metadata": {},
   "outputs": [],
   "source": [
    "directories = parse_directories()\n",
    "csv_path = os.path.join(BASEPATH, directories['internal']['intermediate']['csv'],'Psychology')\n",
    "article_file = os.path.join(BASEPATH, csv_path, \"articles_merged_cleaned_filtered_clustered.csv\")\n",
    "cluster_file = os.path.join(BASEPATH, csv_path, \"clusters_defined_distinguished_trends.csv\")\n",
    "article_df = pd.read_csv(article_file)\n",
    "cluster_df = pd.read_csv(cluster_file)\n",
    "\n",
    "figure_path = os.path.join(BASEPATH, directories['internal']['manuscript']['figures'], 'Figure_04')\n",
    "os.makedirs(figure_path, exist_ok=True)\n",
    "\n",
    "tables_path = os.path.join(BASEPATH, directories['internal']['manuscript']['tables'])\n",
    "os.makedirs(tables_path, exist_ok=True)"
   ]
  },
  {
   "cell_type": "code",
   "execution_count": 5,
   "metadata": {},
   "outputs": [],
   "source": [
    "# Separate the articles into research and review articles.\n",
    "research_df = article_df[article_df[\"Type\"] == \"Research\"]\n",
    "review_df = article_df[article_df[\"Type\"] == \"Review\"]"
   ]
  },
  {
   "cell_type": "code",
   "execution_count": 6,
   "metadata": {},
   "outputs": [],
   "source": [
    "# Compute the normalized annual growth of neuroscience\n",
    "article_count_per_year = article_df.groupby('Year').size()\n",
    "beta = pd.Series(np.polyfit(article_count_per_year.index, article_count_per_year.values, 1), index=['Slope', 'Intercept'])\n",
    "normalized_annual_growth_neuroscience = beta['Slope'] / article_count_per_year.sum()\n",
    "\n",
    "# Compute the normalized growth of the clusters\n",
    "normalized_growth = compute_normalized_annual_growth(article_df)\n",
    "\n",
    "normalized_annual_growth_growing = normalized_growth[normalized_growth > normalized_annual_growth_neuroscience]\n",
    "normalized_annual_growth_declining = normalized_growth[normalized_growth < 0]\n",
    "normalized_annual_growth_stable = normalized_growth[(normalized_growth >= 0) & (normalized_growth <= normalized_annual_growth_neuroscience)]"
   ]
  },
  {
   "cell_type": "markdown",
   "metadata": {},
   "source": [
    "### Figure 3 Panels"
   ]
  },
  {
   "cell_type": "code",
   "execution_count": 7,
   "metadata": {},
   "outputs": [],
   "source": [
    "# Define the panel size (width, height) in centimeters\n",
    "figure_size = [89, 89]\n",
    "\n",
    "# Convert the panel size to inches\n",
    "figure_size_inch = convert_size(*figure_size)\n",
    "\n",
    "# Define the color palette\n",
    "colormap_all = sns.color_palette('Spectral', 30)\n",
    "growth_colors = ['#648fff', '#dc267f', '#ffb000']\n",
    "\n",
    "# Define hue order\n",
    "growth_hue_order = ['Growing', 'Declining', 'Stable']\n",
    "\n",
    "# Define the font sizes\n",
    "fontsize_text = 6\n",
    "fontsize_ticks = 5"
   ]
  },
  {
   "cell_type": "code",
   "execution_count": 8,
   "metadata": {},
   "outputs": [
    {
     "data": {
      "image/png": "[encoded data removed]",
      "text/plain": [
       "<Figure size 350.394x350.394 with 1 Axes>"
      ]
     },
     "metadata": {},
     "output_type": "display_data"
    }
   ],
   "source": [
    "# Panel A: Pie chart showing the distribution of growing, declining, and stable clusters\n",
    "\n",
    "# Define the data\n",
    "num_growing = len(normalized_annual_growth_growing)\n",
    "num_declining = len(normalized_annual_growth_declining)\n",
    "num_stable = len(normalized_annual_growth_stable)\n",
    "\n",
    "growth_counts = pd.Series([num_growing, num_declining, num_stable], index=['Growing', 'Declining', 'Stable'])\n",
    "\n",
    "# Define the figure\n",
    "plt.figure(figsize=figure_size_inch)\n",
    "plt.pie(growth_counts, labels=growth_counts.index, autopct='%1.1f%%', colors=growth_colors, startangle=90, textprops={'fontsize': fontsize_text})\n",
    "plt.axis('equal')  # Equal aspect ratio ensures that pie is drawn as a circle.\n",
    "\n",
    "\n",
    "# Set legend with correct font size and without title\n",
    "plt.legend(title=None, fontsize=fontsize_text)\n",
    "\n",
    "plt.tight_layout()\n",
    "plt.savefig(os.path.join(figure_path, 'panel_a.svg'), format='svg')\n",
    "plt.show()"
   ]
  },
  {
   "cell_type": "code",
   "execution_count": 9,
   "metadata": {},
   "outputs": [
    {
     "data": {
      "image/png": "[encoded data removed]",
      "text/plain": [
       "<Figure size 350.394x350.394 with 1 Axes>"
      ]
     },
     "metadata": {},
     "output_type": "display_data"
    }
   ],
   "source": [
    "# Panel B: Bar chart of the growth rate of the clusters\n",
    "label_interval = 10\n",
    "\n",
    "# plot the growth rate of the clusters\n",
    "plt.figure(figsize=figure_size_inch)\n",
    "\n",
    "plt.bar(\n",
    "    normalized_annual_growth_growing.index,\n",
    "    normalized_annual_growth_growing,\n",
    "    color=growth_colors[0],\n",
    "    label='Growing',\n",
    ")\n",
    "\n",
    "plt.bar(\n",
    "    normalized_annual_growth_declining.index,\n",
    "    normalized_annual_growth_declining,\n",
    "    color=growth_colors[1],\n",
    "    label='Declining',\n",
    ")\n",
    "\n",
    "plt.bar(\n",
    "    normalized_annual_growth_stable.index,\n",
    "    normalized_annual_growth_stable,\n",
    "    color=growth_colors[2],\n",
    "    label='Stable',\n",
    ")\n",
    "\n",
    "plt.plot(range(len(normalized_growth)), [normalized_annual_growth_neuroscience] * len(normalized_growth), color='black', linewidth=0.5)\n",
    "\n",
    "sns.despine()\n",
    "\n",
    "plt.xticks(\n",
    "    ticks=range(0, len(normalized_growth), label_interval),\n",
    "    rotation=45,\n",
    "    ha='right',\n",
    "    fontsize=fontsize_ticks\n",
    ")\n",
    "\n",
    "# Set y-ticks font size\n",
    "plt.yticks(fontsize=fontsize_ticks)\n",
    "\n",
    "# Set axis labels with correct font size\n",
    "plt.xlabel('Cluster', fontsize=fontsize_text)\n",
    "plt.ylabel('Normalized Growth', fontsize=fontsize_text)\n",
    "\n",
    "# Set legend with correct font size and without title\n",
    "plt.legend(title=None, fontsize=fontsize_text)\n",
    "\n",
    "plt.tight_layout()\n",
    "\n",
    "plt.savefig(os.path.join(figure_path, 'panel_b.svg'), format='svg')\n",
    "plt.show()\n",
    "\n"
   ]
  },
  {
   "cell_type": "code",
   "execution_count": 20,
   "metadata": {},
   "outputs": [
    {
     "data": {
      "image/png": "[encoded data removed]",
      "text/plain": [
       "<Figure size 350.394x350.394 with 1 Axes>"
      ]
     },
     "metadata": {},
     "output_type": "display_data"
    }
   ],
   "source": [
    "# Panel C: Line plot showing sizes of the 5 most growing clusters per year\n",
    "\n",
    "# Select the colors for the line plot\n",
    "colormap = colormap_all[-1::-5]\n",
    "\n",
    "# Select the 10 most growing clusters\n",
    "top_clusters = sorted(normalized_annual_growth_growing.sort_values(ascending=False).head(10).index)\n",
    "\n",
    "# Select the data for the 5 most growing clusters\n",
    "top_clusters_data = article_df[article_df['Cluster ID'].isin(top_clusters)]\n",
    "\n",
    "# Compute the size of the 5 most growing clusters per year\n",
    "top_clusters_size = top_clusters_data.groupby(['Year', 'Cluster ID']).size().unstack().fillna(0)\n",
    "\n",
    "plt.figure(figsize=figure_size_inch)\n",
    "\n",
    "for i, cluster in enumerate(top_clusters[:5]):\n",
    "    plt.plot(\n",
    "        top_clusters_size.index,\n",
    "        top_clusters_size[cluster],\n",
    "        color=colormap[i],\n",
    "        label=f'Cluster {cluster:3d}',\n",
    "        marker='o',\n",
    "    )\n",
    "\n",
    "sns.despine()\n",
    "plt.xticks(fontsize=fontsize_ticks)\n",
    "plt.yticks(fontsize=fontsize_ticks)\n",
    "plt.xlabel('Year', fontsize=fontsize_text)\n",
    "plt.ylabel('Number of Articles', fontsize=fontsize_text)\n",
    "plt.ylim(0, 1000)\n",
    "plt.legend(title=None, fontsize=fontsize_text)\n",
    "plt.tight_layout()\n",
    "plt.savefig(os.path.join(figure_path, 'panel_c.svg'), format='svg')\n",
    "plt.show()"
   ]
  },
  {
   "cell_type": "code",
   "execution_count": 11,
   "metadata": {},
   "outputs": [
    {
     "name": "stderr",
     "output_type": "stream",
     "text": [
      "No artists with labels found to put in legend.  Note that artists whose label start with an underscore are ignored when legend() is called with no argument.\n"
     ]
    },
    {
     "data": {
      "image/png": "[encoded data removed]",
      "text/plain": [
       "<Figure size 350.394x350.394 with 1 Axes>"
      ]
     },
     "metadata": {},
     "output_type": "display_data"
    }
   ],
   "source": [
    "# Panel D: Line plot showing sizes of the 5 most declining clusters per year\n",
    "\n",
    "# Select the colors for the line plot\n",
    "colormap = colormap_all[:10]\n",
    "\n",
    "# Select the 5 most declining clusters\n",
    "top_clusters = sorted(normalized_annual_growth_declining.sort_values(ascending=True).head(10).index)\n",
    "\n",
    "# Select the data for the 5 most declining clusters\n",
    "top_clusters_data = article_df[article_df['Cluster ID'].isin(top_clusters)]\n",
    "\n",
    "# Compute the size of the 5 most declining clusters per year\n",
    "top_clusters_size = top_clusters_data.groupby(['Year', 'Cluster ID']).size().unstack().fillna(0)\n",
    "\n",
    "plt.figure(figsize=figure_size_inch)\n",
    "\n",
    "for i, cluster in enumerate(top_clusters):\n",
    "    plt.plot(\n",
    "        top_clusters_size.index,\n",
    "        top_clusters_size[cluster],\n",
    "        color=colormap[i],\n",
    "        label=f'Cluster {cluster:3d}',\n",
    "    )\n",
    "\n",
    "sns.despine()\n",
    "plt.xticks(fontsize=fontsize_ticks)\n",
    "plt.yticks(fontsize=fontsize_ticks)\n",
    "plt.xlabel('Year', fontsize=fontsize_text)\n",
    "plt.ylabel('Number of Articles', fontsize=fontsize_text)\n",
    "plt.ylim(0, 500)\n",
    "plt.legend(title=None, fontsize=fontsize_text)\n",
    "plt.tight_layout()\n",
    "plt.savefig(os.path.join(figure_path, 'panel_d.svg'), format='svg')\n",
    "plt.show()"
   ]
  },
  {
   "cell_type": "markdown",
   "metadata": {},
   "source": [
    "### Aggregate cluster-specific trends and open questions into discipline-wide trends"
   ]
  },
  {
   "cell_type": "code",
   "execution_count": 12,
   "metadata": {},
   "outputs": [],
   "source": [
    "temperature = 1.0\n",
    "model_name = 'gpt-4o-2024-08-06'\n",
    "delay = 0.2\n",
    "retries = 10\n",
    "\n",
    "# Define the required keys for the output dictionary\n",
    "trends_keys = [\n",
    "                'Overarching Trend 1', 'Overarching Trend 2', 'Overarching Trend 3',\n",
    "                'Overarching Trend 4', 'Overarching Trend 5', 'Overarching Trend 6',\n",
    "                'Overarching Trend 7', 'Overarching Trend 8', 'Overarching Trend 9',\n",
    "                'Overarching Trend 10']\n",
    "\n",
    "necessary_keys = [\n",
    "                'Necessary Development 1', 'Necessary Development 2', 'Necessary Development 3',\n",
    "                'Necessary Development 4', 'Necessary Development 5', 'Necessary Development 6',\n",
    "                'Necessary Development 7', 'Necessary Development 8', 'Necessary Development 9',\n",
    "                'Necessary Development 10']\n",
    "\n",
    "questions_keys = [\n",
    "                'Transcendental Question 1', 'Transcendental Question 2', 'Transcendental Question 3',\n",
    "                'Transcendental Question 4', 'Transcendental Question 5', 'Transcendental Question 6',\n",
    "                'Transcendental Question 7', 'Transcendental Question 8', 'Transcendental Question 9',\n",
    "                'Transcendental Question 10']"
   ]
  },
  {
   "cell_type": "code",
   "execution_count": 13,
   "metadata": {},
   "outputs": [],
   "source": [
    "# Deine prompt temlates\n",
    "TRENDS_PROMPT = PromptTemplate(\n",
    "    input_variables=[\"text\", \"type\"],\n",
    "    template=\"\"\"\n",
    "            You are an expert in neuroscience and scientific text analysis. \n",
    "            You are provided with a set of emerging trends and open questions in specific neuroscience clusters.\n",
    "            \n",
    "            Your task is to analyze the trends and questions in the clusters and provide an overview of the 10 {type}s that transcend the clusters and reflect the current state of neuroscience as a whole.\n",
    "            Any {type} may focus on thematic developments, methodological developments, or both. For trends both negative and positive developments can be interesting, but necessary developments should focus on which shortcomings need to be addressed.\n",
    "\n",
    "            Provide your analysis in a structured JSON format.\n",
    "\n",
    "            **Output Format:**\n",
    "\n",
    "            Please present your findings in **JSON format** with the following structure:\n",
    "            {{\n",
    "                \"{type} 1\": Brief assessment and description of the first {type},\n",
    "                \"{type} 2\": Brief assessment and description of the second {type},\n",
    "                \"{type} 3\": Brief assessment and description of the third {type},\n",
    "                \"{type} 4\": Brief assessment and description of the fourth {type},\n",
    "                \"{type} 5\": Brief assessment and description of the fifth {type},\n",
    "                \"{type} 6\": Brief assessment and description of the sixth {type},\n",
    "                \"{type} 7\": Brief assessment and description of the seventh {type},\n",
    "                \"{type} 8\": Brief assessment and description of the eighth {type},\n",
    "                \"{type} 9\": Brief assessment and description of the ninth {type},\n",
    "                \"{type} 10\": Brief assessment and description of the tenth {type}\n",
    "            }}\n",
    "\n",
    "            **Instructions:**\n",
    "            - **Importance**: Focus on the most important {type}s that are relevant to the field of neuroscience as a whole.\n",
    "            - **Big Picture View**: {type}s that only apply to a single or very small number of cluster should not be included. Focus on {type}s that transcend the clusters and reflect the broader field of neuroscience. A {type} that is relevant to many clusters, though not necessarily all, should be included.\n",
    "            - **Accuracy is crucial**: Ensure all information is directly supported by the provided text. Do not include information not present in the text or make external assumptions.\n",
    "            - **Clarity and Precision**: Assessments and descriptions should be clear and accurately reflect the content of the text.\n",
    "            - **Conciseness**: Do not include any additional text or explanations beyond the specified JSON output. Do not generate more output than necessary.\n",
    "\n",
    "            **Here are the cluster specific trends and open questions**:\n",
    "            {text}\n",
    "            \"\"\",\n",
    ")"
   ]
  },
  {
   "cell_type": "code",
   "execution_count": 14,
   "metadata": {},
   "outputs": [],
   "source": [
    "# Define the LLM chain\n",
    "llm = ChatOpenAI(temperature=temperature, model=model_name)\n",
    "trends_chain = TRENDS_PROMPT | llm | SimpleJsonOutputParser()"
   ]
  },
  {
   "cell_type": "code",
   "execution_count": 35,
   "metadata": {},
   "outputs": [],
   "source": [
    "keys = ['Emerging Themes', 'Emerging Methodological Approaches', 'Declining Themes', 'Declining Methodological Approaches']\n",
    "\n",
    "trends_dict = {key: [] for key in keys}\n",
    "trends_dict['Cluster ID'] = []\n",
    "trends_dict['Open Questions'] = []\n",
    "\n",
    "trends_list = []\n",
    "\n",
    "for row in cluster_df.iterrows():\n",
    "    cluster = row[1]\n",
    "    trends_dict['Cluster ID'].append(cluster['Cluster ID'])\n",
    "    trends_dict['Open Questions'].append(cluster['Open Questions'])\n",
    "\n",
    "    trends_list.append(f'Cluster {cluster['Cluster ID']}')\n",
    "    trends_list.append(cluster['Trends'])\n",
    "    trends_list.append(cluster['Open Questions'])\n",
    "\n",
    "    for key in keys:\n",
    "        all_text = cluster['Trends']\n",
    "        key_text = all_text.split(key)[1].split(': ')[1].split('\\n')[0]\n",
    "        trends_dict[key].append(key_text)\n",
    "\n",
    "trends_text = '\\n'.join(trends_list)\n",
    "\n",
    "trends_df = pd.DataFrame(trends_dict)\n",
    "trends_df = trends_df[['Cluster ID'] + keys + ['Open Questions']]\n",
    "trends_df.to_csv(os.path.join(tables_path, 'supplementary_table_04.csv'), index=False)\n",
    "\n",
    "# Save as supplementary table (excel)\n",
    "trends_df.to_excel(os.path.join(tables_path, 'supplementary_table_04.xlsx'), index=False)"
   ]
  },
  {
   "cell_type": "code",
   "execution_count": 32,
   "metadata": {},
   "outputs": [
    {
     "name": "stdout",
     "output_type": "stream",
     "text": [
      "Loading global trends from file\n"
     ]
    }
   ],
   "source": [
    "global_trends_file = os.path.join(tables_path,'table_01', 'global_trends.csv')\n",
    "os.makedirs(os.path.dirname(global_trends_file), exist_ok=True)\n",
    "\n",
    "if os.path.exists(global_trends_file):\n",
    "    print(\"Loading global trends from file\")\n",
    "    global_trends_df = pd.read_csv(global_trends_file)\n",
    "else:\n",
    "    chain_input = {\n",
    "        'text': trends_text,\n",
    "        'type': 'Overarching Trend'\n",
    "    }\n",
    "    global_trends = safe_dictionary_extraction(trends_keys, chain_input, trends_chain, retries, delay)\n",
    "    global_trends_df = pd.DataFrame(global_trends, index=[0])\n",
    "    global_trends_df.to_csv(global_trends_file, index=False)"
   ]
  },
  {
   "cell_type": "code",
   "execution_count": 33,
   "metadata": {},
   "outputs": [
    {
     "name": "stdout",
     "output_type": "stream",
     "text": [
      "Loading global questions from file\n"
     ]
    }
   ],
   "source": [
    "global_questions_file = os.path.join(tables_path, 'table_01', 'global_questions.csv')\n",
    "if os.path.exists(global_questions_file):\n",
    "    print('Loading global questions from file')\n",
    "    global_questions_df = pd.read_csv(global_questions_file)\n",
    "else:\n",
    "    chain_input = {\n",
    "        'text': trends_text,\n",
    "        'type': 'Transcendental Question'\n",
    "    }\n",
    "    global_questions = safe_dictionary_extraction(questions_keys, chain_input, trends_chain, retries, delay)\n",
    "    global_questions_df = pd.DataFrame(global_questions, index=[0])\n",
    "    global_questions_df.to_csv(global_questions_file, index=False)"
   ]
  },
  {
   "cell_type": "code",
   "execution_count": 34,
   "metadata": {},
   "outputs": [
    {
     "name": "stdout",
     "output_type": "stream",
     "text": [
      "Loading necessary developments from file\n"
     ]
    }
   ],
   "source": [
    "necessary_developments_file = os.path.join(tables_path, 'table_01', 'necessary_developments.csv')\n",
    "if os.path.exists(necessary_developments_file):\n",
    "    print(\"Loading necessary developments from file\")\n",
    "    necessary_developments_df = pd.read_csv(necessary_developments_file)\n",
    "else:\n",
    "    chain_input = {\n",
    "        'text': trends_text,\n",
    "        'type': 'Necessary Development'\n",
    "    }\n",
    "    necessary_developments = safe_dictionary_extraction(necessary_keys, chain_input, trends_chain, retries, delay)\n",
    "    necessary_developments_df = pd.DataFrame(necessary_developments, index=[0])\n",
    "    necessary_developments_df.to_csv(necessary_developments_file, index=False)"
   ]
  }
 ],
 "metadata": {
  "kernelspec": {
   "display_name": "trends_env",
   "language": "python",
   "name": "python3"
  },
  "language_info": {
   "codemirror_mode": {
    "name": "ipython",
    "version": 3
   },
   "file_extension": ".py",
   "mimetype": "text/x-python",
   "name": "python",
   "nbconvert_exporter": "python",
   "pygments_lexer": "ipython3",
   "version": "3.12.2"
  }
 },
 "nbformat": 4,
 "nbformat_minor": 2
}
